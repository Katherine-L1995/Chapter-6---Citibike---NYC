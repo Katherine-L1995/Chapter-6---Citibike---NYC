{
 "cells": [
  {
   "cell_type": "code",
   "execution_count": 2,
   "id": "854b2334-8fbc-4759-b6fc-120f4c0be8e9",
   "metadata": {},
   "outputs": [],
   "source": [
    "import pandas as pd\n",
    "import numpy as np\n",
    "import os\n",
    "import matplotlib.pyplot as plt\n",
    "import seaborn as sns\n",
    "from sklearn.preprocessing import StandardScaler\n",
    "from sklearn.cluster import KMeans\n",
    "import pylab as pl"
   ]
  },
  {
   "cell_type": "code",
   "execution_count": 4,
   "id": "80de1d95-dcad-45b3-a958-82ae6916503c",
   "metadata": {},
   "outputs": [
    {
     "name": "stdout",
     "output_type": "stream",
     "text": [
      "  trip_id  bike_id weekday  start_hour           start_time  start_station_id  \\\n",
      "0  LnQzQk    16013     Mon          18  2013-09-09 18:18:55               523   \n",
      "1  IL9boN    15230     Thu          18  2013-09-12 18:38:53               257   \n",
      "2  46clGB    17942     Wed          19  2013-09-18 19:44:04               479   \n",
      "3  v7vdFt    19683     Sat          11  2013-09-28 11:54:37               527   \n",
      "4  VGBsb5    18024     Sat          18  2013-09-07 18:08:22               521   \n",
      "\n",
      "        start_station_name  start_station_latitude  start_station_longitude  \\\n",
      "0          W 38 St & 8 Ave               40.754666               -73.991382   \n",
      "1  Lispenard St & Broadway               40.719392               -74.002472   \n",
      "2          9 Ave & W 45 St               40.760193               -73.991255   \n",
      "3          E 33 St & 1 Ave               40.743156               -73.974347   \n",
      "4          8 Ave & W 31 St               40.750450               -73.994811   \n",
      "\n",
      "              end_time  end_station_id     end_station_name  \\\n",
      "0  2013-09-09 18:35:28             334      W 20 St & 7 Ave   \n",
      "1  2013-09-12 18:48:34             236  St Marks Pl & 2 Ave   \n",
      "2  2013-09-18 19:50:05             513     W 56 St & 10 Ave   \n",
      "3  2013-09-28 12:03:58             441      E 52 St & 2 Ave   \n",
      "4  2013-09-07 18:46:38             476      E 31 St & 3 Ave   \n",
      "\n",
      "   end_station_latitude  end_station_longitude  trip_duration      subscriber  \\\n",
      "0             40.742388             -73.997262            993      Subscriber   \n",
      "1             40.728419             -73.987140            581      Subscriber   \n",
      "2             40.768254             -73.988639            361      Subscriber   \n",
      "3             40.756014             -73.967416            561      Subscriber   \n",
      "4             40.743943             -73.979661           2296  Non-Subscriber   \n",
      "\n",
      "   birth_year  gender  \n",
      "0      1968.0       2  \n",
      "1      1983.0       1  \n",
      "2      1989.0       1  \n",
      "3      1988.0       2  \n",
      "4         NaN       0  \n"
     ]
    }
   ],
   "source": [
    "import pandas as pd\n",
    "\n",
    "# Load the CSV file into a DataFrame\n",
    "citi5 = pd.read_csv(r'C:\\Users\\Kathe\\Documents\\citibike.csv')\n",
    "\n",
    "# Preview the first few rows to ensure it loaded correctly\n",
    "print(citi5.head())"
   ]
  },
  {
   "cell_type": "code",
   "execution_count": 12,
   "id": "7ab46fd7-4eec-481d-9746-de2c39d997b5",
   "metadata": {},
   "outputs": [
    {
     "name": "stdout",
     "output_type": "stream",
     "text": [
      "Index(['trip_id', 'bike_id', 'weekday', 'start_hour', 'start_time',\n",
      "       'start_station_id', 'start_station_name', 'start_station_latitude',\n",
      "       'start_station_longitude', 'end_time', 'end_station_id',\n",
      "       'end_station_name', 'end_station_latitude', 'end_station_longitude',\n",
      "       'trip_duration', 'subscriber', 'birth_year', 'gender'],\n",
      "      dtype='object')\n"
     ]
    }
   ],
   "source": [
    "print(citi5.columns)"
   ]
  },
  {
   "cell_type": "code",
   "execution_count": 16,
   "id": "fb7d4e0f-62bb-4e1d-9a53-3e8d769c7d1d",
   "metadata": {},
   "outputs": [
    {
     "name": "stderr",
     "output_type": "stream",
     "text": [
      "C:\\Users\\Kathe\\anaconda3\\Lib\\site-packages\\joblib\\externals\\loky\\backend\\context.py:136: UserWarning: Could not find the number of physical cores for the following reason:\n",
      "[WinError 2] The system cannot find the file specified\n",
      "Returning the number of logical cores instead. You can silence this warning by setting LOKY_MAX_CPU_COUNT to the number of cores you want to use.\n",
      "  warnings.warn(\n",
      "  File \"C:\\Users\\Kathe\\anaconda3\\Lib\\site-packages\\joblib\\externals\\loky\\backend\\context.py\", line 257, in _count_physical_cores\n",
      "    cpu_info = subprocess.run(\n",
      "               ^^^^^^^^^^^^^^^\n",
      "  File \"C:\\Users\\Kathe\\anaconda3\\Lib\\subprocess.py\", line 548, in run\n",
      "    with Popen(*popenargs, **kwargs) as process:\n",
      "         ^^^^^^^^^^^^^^^^^^^^^^^^^^^\n",
      "  File \"C:\\Users\\Kathe\\anaconda3\\Lib\\subprocess.py\", line 1026, in __init__\n",
      "    self._execute_child(args, executable, preexec_fn, close_fds,\n",
      "  File \"C:\\Users\\Kathe\\anaconda3\\Lib\\subprocess.py\", line 1538, in _execute_child\n",
      "    hp, ht, pid, tid = _winapi.CreateProcess(executable, args,\n",
      "                       ^^^^^^^^^^^^^^^^^^^^^^^^^^^^^^^^^^^^^^^\n"
     ]
    },
    {
     "name": "stdout",
     "output_type": "stream",
     "text": [
      "  trip_id  bike_id weekday  start_hour           start_time  start_station_id  \\\n",
      "0  LnQzQk    16013     Mon          18  2013-09-09 18:18:55               523   \n",
      "1  IL9boN    15230     Thu          18  2013-09-12 18:38:53               257   \n",
      "2  46clGB    17942     Wed          19  2013-09-18 19:44:04               479   \n",
      "3  v7vdFt    19683     Sat          11  2013-09-28 11:54:37               527   \n",
      "4  VGBsb5    18024     Sat          18  2013-09-07 18:08:22               521   \n",
      "\n",
      "        start_station_name  start_station_latitude  start_station_longitude  \\\n",
      "0          W 38 St & 8 Ave               40.754666               -73.991382   \n",
      "1  Lispenard St & Broadway               40.719392               -74.002472   \n",
      "2          9 Ave & W 45 St               40.760193               -73.991255   \n",
      "3          E 33 St & 1 Ave               40.743156               -73.974347   \n",
      "4          8 Ave & W 31 St               40.750450               -73.994811   \n",
      "\n",
      "              end_time  end_station_id     end_station_name  \\\n",
      "0  2013-09-09 18:35:28             334      W 20 St & 7 Ave   \n",
      "1  2013-09-12 18:48:34             236  St Marks Pl & 2 Ave   \n",
      "2  2013-09-18 19:50:05             513     W 56 St & 10 Ave   \n",
      "3  2013-09-28 12:03:58             441      E 52 St & 2 Ave   \n",
      "4  2013-09-07 18:46:38             476      E 31 St & 3 Ave   \n",
      "\n",
      "   end_station_latitude  end_station_longitude  trip_duration      subscriber  \\\n",
      "0             40.742388             -73.997262            993      Subscriber   \n",
      "1             40.728419             -73.987140            581      Subscriber   \n",
      "2             40.768254             -73.988639            361      Subscriber   \n",
      "3             40.756014             -73.967416            561      Subscriber   \n",
      "4             40.743943             -73.979661           2296  Non-Subscriber   \n",
      "\n",
      "   birth_year  gender  cluster  \n",
      "0      1968.0       2        1  \n",
      "1      1983.0       1        1  \n",
      "2      1989.0       1        1  \n",
      "3      1988.0       2        2  \n",
      "4         NaN       0        0  \n"
     ]
    }
   ],
   "source": [
    "from sklearn.preprocessing import StandardScaler\n",
    "from sklearn.cluster import KMeans\n",
    "\n",
    "# Select the numerical features you want to use for clustering\n",
    "# For example, you could cluster based on trip_duration, start_hour, or other numerical columns\n",
    "features = citi5[['trip_duration', 'start_hour']]  # You can add more numerical columns here if needed\n",
    "\n",
    "# Standardize the data\n",
    "scaler = StandardScaler()\n",
    "features_scaled = scaler.fit_transform(features)\n",
    "\n",
    "# Perform K-means clustering\n",
    "kmeans = KMeans(n_clusters=3, random_state=42)  # Set n_clusters to your desired number of clusters\n",
    "citi5['cluster'] = kmeans.fit_predict(features_scaled)\n",
    "\n",
    "# Verify the cluster column is added\n",
    "print(citi5.head())"
   ]
  },
  {
   "cell_type": "code",
   "execution_count": 20,
   "id": "2404e689-87ac-48bd-bba8-4cf4c5700ede",
   "metadata": {},
   "outputs": [],
   "source": [
    "# Assuming trip_duration is in seconds\n",
    "citi5['trip_duration_minutes'] = citi5['trip_duration'] / 60"
   ]
  },
  {
   "cell_type": "code",
   "execution_count": 24,
   "id": "26066861-eb0b-4604-b592-36224894dfd6",
   "metadata": {},
   "outputs": [
    {
     "name": "stdout",
     "output_type": "stream",
     "text": [
      "        trip_duration_minutes                                             \n",
      "                         mean     median       std   min        max  count\n",
      "cluster                                                                   \n",
      "0                   29.750337  27.600000  7.686086  18.7  44.950000   9636\n",
      "1                   10.151530   9.466667  4.839476   1.0  23.650000  22694\n",
      "2                   10.305566   9.333333  5.331408   1.0  33.616667  17670\n"
     ]
    }
   ],
   "source": [
    "cluster_stats = citi5.groupby('cluster').agg({\n",
    "    'trip_duration_minutes': ['mean', 'median', 'std', 'min', 'max', 'count']\n",
    "})\n",
    "\n",
    "print(cluster_stats)"
   ]
  },
  {
   "cell_type": "markdown",
   "id": "be136d5c-1292-4503-a8ee-b2c1cdbb68b8",
   "metadata": {},
   "source": [
    "Cluster 0 represents the longest trips, with a clear mean around 30 minutes, and likely corresponds to recreational or leisure users who are traveling for longer periods.\n",
    "\n",
    "Clusters 1 and 2 represent shorter trips, with mean durations of around 10 minutes. These likely reflect commuter or utilitarian trips, with Cluster 1 being slightly more consistent in duration.\n",
    "\n",
    "The differences in trip durations between the clusters suggest different trip purposes: Cluster 0 trips may be related to longer leisure activities, while Clusters 1 and 2 likely reflect daily commuting or errands, with some variability between them."
   ]
  },
  {
   "cell_type": "code",
   "execution_count": null,
   "id": "8dbac6f8-a479-4526-aca4-7c0bdf3468ff",
   "metadata": {},
   "outputs": [],
   "source": []
  }
 ],
 "metadata": {
  "kernelspec": {
   "display_name": "Python 3 (ipykernel)",
   "language": "python",
   "name": "python3"
  },
  "language_info": {
   "codemirror_mode": {
    "name": "ipython",
    "version": 3
   },
   "file_extension": ".py",
   "mimetype": "text/x-python",
   "name": "python",
   "nbconvert_exporter": "python",
   "pygments_lexer": "ipython3",
   "version": "3.12.7"
  }
 },
 "nbformat": 4,
 "nbformat_minor": 5
}
